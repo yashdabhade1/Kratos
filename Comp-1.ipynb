{
 "cells": [
  {
   "cell_type": "code",
   "execution_count": 57,
   "id": "47d17e77",
   "metadata": {},
   "outputs": [
    {
     "name": "stdout",
     "output_type": "stream",
     "text": [
      "(1000, 1000, 3)\n"
     ]
    },
    {
     "data": {
      "text/plain": [
       "array([[128.8, 128.4, 145.5, ..., 191.3, 183.2, 196.6],\n",
       "       [129.8, 129.4, 139.9, ..., 193.1, 188.5, 194.3],\n",
       "       [128.4, 130.4, 132.9, ..., 208.1, 209. , 210.4],\n",
       "       ...,\n",
       "       [ 60.3,  60.2,  59.7, ..., 220. , 221. , 221. ],\n",
       "       [ 67.3,  59. ,  50.5, ..., 220. , 221. , 221. ],\n",
       "       [ 54.2,  52.9,  51.2, ..., 220. , 221. , 221. ]])"
      ]
     },
     "execution_count": 57,
     "metadata": {},
     "output_type": "execute_result"
    }
   ],
   "source": [
    "# importing modules\n",
    "import urllib.request\n",
    "from PIL import Image\n",
    "import numpy as np\n",
    "import matplotlib as mp\n",
    "urllib.request.urlretrieve(\n",
    "'https://images-na.ssl-images-amazon.com/images/I/81KA4Aty8xL._SL1000_.jpg',\n",
    "\"abc.jpg\")\n",
    "\n",
    "image = Image.open(\"abc.jpg\")\n",
    "image.show()\n",
    "imarr=np.array(image)\n",
    "print(imarr.shape)\n"
   ]
  },
  {
   "cell_type": "code",
   "execution_count": 46,
   "id": "751dc1ee",
   "metadata": {},
   "outputs": [
    {
     "name": "stdout",
     "output_type": "stream",
     "text": [
      "122\n"
     ]
    }
   ],
   "source": [
    "imarr[1][1][1]=-imarr[1][1][1]\n",
    "print(imarr[1][1][1])"
   ]
  },
  {
   "cell_type": "markdown",
   "id": "f7805235",
   "metadata": {},
   "source": [
    "# Inverted colors"
   ]
  },
  {
   "cell_type": "code",
   "execution_count": 49,
   "id": "2988952e",
   "metadata": {},
   "outputs": [],
   "source": [
    "i,j,k=0,0,0\n",
    "for i in range(0,1000):\n",
    "    for j in range (0,1000):\n",
    "        for k in range(0,3):\n",
    "            imarr[i][j][k]=-imarr[i][j][k]\n",
    "new=Image.fromarray(imarr)\n",
    "new.show()"
   ]
  },
  {
   "cell_type": "markdown",
   "id": "3bddc715",
   "metadata": {},
   "source": [
    "# Black and white\n"
   ]
  },
  {
   "cell_type": "code",
   "execution_count": 58,
   "id": "f53c05e3",
   "metadata": {},
   "outputs": [],
   "source": [
    "imara=np.dot(imarr[...,:3], [.3, .6, .1])\n",
    "new=Image.fromarray(imara)\n",
    "new.show()"
   ]
  },
  {
   "cell_type": "code",
   "execution_count": null,
   "id": "e92f95ab",
   "metadata": {},
   "outputs": [],
   "source": []
  }
 ],
 "metadata": {
  "kernelspec": {
   "display_name": "Python 3",
   "language": "python",
   "name": "python3"
  },
  "language_info": {
   "codemirror_mode": {
    "name": "ipython",
    "version": 3
   },
   "file_extension": ".py",
   "mimetype": "text/x-python",
   "name": "python",
   "nbconvert_exporter": "python",
   "pygments_lexer": "ipython3",
   "version": "3.8.8"
  }
 },
 "nbformat": 4,
 "nbformat_minor": 5
}
