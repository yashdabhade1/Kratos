{
 "cells": [
  {
   "cell_type": "code",
   "execution_count": 50,
   "id": "1416dca7",
   "metadata": {},
   "outputs": [
    {
     "name": "stdout",
     "output_type": "stream",
     "text": [
      "(1000, 1000)\n"
     ]
    }
   ],
   "source": [
    "# importing modules\n",
    "import urllib.request\n",
    "from PIL import Image\n",
    "%matplotlib inline\n",
    "import matplotlib.pyplot as plt\n",
    "import numpy as np\n",
    "import matplotlib as mp\n",
    "imarr=np.empty((1000, 1000))\n",
    "print(imarr.shape)\n"
   ]
  },
  {
   "cell_type": "code",
   "execution_count": 58,
   "id": "6d0597bf",
   "metadata": {},
   "outputs": [
    {
     "name": "stdout",
     "output_type": "stream",
     "text": [
      "[[0. 0. 0. ... 0. 0. 1.]\n",
      " [0. 1. 1. ... 1. 1. 1.]\n",
      " [0. 1. 2. ... 2. 2. 1.]\n",
      " ...\n",
      " [0. 1. 2. ... 3. 2. 1.]\n",
      " [0. 1. 2. ... 2. 2. 1.]\n",
      " [0. 1. 1. ... 1. 1. 1.]]\n"
     ]
    }
   ],
   "source": [
    "for i in range(0,1000):\n",
    "    for j in range(0,1000):\n",
    "        if(j<1000-i):     \n",
    "            imarr[i][j]=min(i,j)\n",
    "                \n",
    "    if i>500 or j>500:\n",
    "            imarr[i][j]=1000-max(i,j)\n",
    "\n",
    "print(imarr)"
   ]
  },
  {
   "cell_type": "code",
   "execution_count": 59,
   "id": "e24f5852",
   "metadata": {},
   "outputs": [
    {
     "data": {
      "text/plain": [
       "<matplotlib.image.AxesImage at 0x20262737310>"
      ]
     },
     "execution_count": 59,
     "metadata": {},
     "output_type": "execute_result"
    },
    {
     "data": {
      "image/png": "[encoded data removed]",
      "text/plain": [
       "<Figure size 432x288 with 1 Axes>"
      ]
     },
     "metadata": {
      "needs_background": "light"
     },
     "output_type": "display_data"
    }
   ],
   "source": [
    "new=Image.fromarray(imarr)\n",
    "            \n",
    "plt.imshow(new)"
   ]
  },
  {
   "cell_type": "code",
   "execution_count": 66,
   "id": "52e78f5c",
   "metadata": {},
   "outputs": [
    {
     "name": "stdout",
     "output_type": "stream",
     "text": [
      "1 3 4 5\n",
      "[5. 4. 3. 1.]\n"
     ]
    }
   ],
   "source": [
    "import numpy\n",
    "\n",
    "def arrays(arr):\n",
    "    arr = numpy.array(arr,float)\n",
    "    res = arr[::-1]\n",
    "    return res\n",
    "\n",
    "arr = input().strip().split(' ')\n",
    "result = arrays(arr)\n",
    "print(result)"
   ]
  },
  {
   "cell_type": "code",
   "execution_count": null,
   "id": "133b2f13",
   "metadata": {},
   "outputs": [],
   "source": []
  }
 ],
 "metadata": {
  "kernelspec": {
   "display_name": "Python 3",
   "language": "python",
   "name": "python3"
  },
  "language_info": {
   "codemirror_mode": {
    "name": "ipython",
    "version": 3
   },
   "file_extension": ".py",
   "mimetype": "text/x-python",
   "name": "python",
   "nbconvert_exporter": "python",
   "pygments_lexer": "ipython3",
   "version": "3.8.8"
  }
 },
 "nbformat": 4,
 "nbformat_minor": 5
}
